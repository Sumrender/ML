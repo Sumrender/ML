{
 "cells": [
  {
   "cell_type": "code",
   "execution_count": 1,
   "id": "ea5cb5fe",
   "metadata": {},
   "outputs": [],
   "source": [
    "# Fetching dataset\n",
    "\n",
    "from sklearn.datasets import fetch_openml\n",
    "mnist = fetch_openml(\"mnist_784\")"
   ]
  },
  {
   "cell_type": "code",
   "execution_count": 2,
   "id": "46418442",
   "metadata": {},
   "outputs": [],
   "source": [
    "# mnist.keys()"
   ]
  },
  {
   "cell_type": "code",
   "execution_count": 3,
   "id": "725d3fc2",
   "metadata": {},
   "outputs": [],
   "source": [
    "x, y = mnist['data'], mnist['target']"
   ]
  },
  {
   "cell_type": "code",
   "execution_count": 4,
   "id": "86e218dd",
   "metadata": {},
   "outputs": [
    {
     "name": "stdout",
     "output_type": "stream",
     "text": [
      "Shape of x: (70000, 784) \n",
      " Shape of y: (70000,)\n"
     ]
    }
   ],
   "source": [
    "print('Shape of x:', x.shape, '\\n', 'Shape of y:', y.shape)"
   ]
  },
  {
   "cell_type": "code",
   "execution_count": 5,
   "id": "e918e0b3",
   "metadata": {},
   "outputs": [],
   "source": [
    "%matplotlib inline\n",
    "import matplotlib.pyplot as plt"
   ]
  },
  {
   "cell_type": "code",
   "execution_count": 6,
   "id": "03cc8a97",
   "metadata": {},
   "outputs": [],
   "source": [
    "import numpy as np"
   ]
  },
  {
   "cell_type": "code",
   "execution_count": 7,
   "id": "c497c16e",
   "metadata": {},
   "outputs": [
    {
     "name": "stdout",
     "output_type": "stream",
     "text": [
      "9\n"
     ]
    },
    {
     "data": {
      "image/png": "[encoded data removed]",
      "text/plain": [
       "<Figure size 432x288 with 1 Axes>"
      ]
     },
     "metadata": {
      "needs_background": "light"
     },
     "output_type": "display_data"
    }
   ],
   "source": [
    "digit = x.iloc[36000]\n",
    "digit_pixels = np.array(digit).reshape(28, 28)\n",
    "plt.subplot(131)\n",
    "plt.imshow(digit_pixels)\n",
    "plt.axis('off')\n",
    "print(y[36000])"
   ]
  },
  {
   "cell_type": "code",
   "execution_count": 15,
   "id": "46e2132f",
   "metadata": {},
   "outputs": [
    {
     "name": "stdout",
     "output_type": "stream",
     "text": [
      "2\n"
     ]
    },
    {
     "data": {
      "image/png": "[encoded data removed]",
      "text/plain": [
       "<Figure size 432x288 with 1 Axes>"
      ]
     },
     "metadata": {
      "needs_background": "light"
     },
     "output_type": "display_data"
    }
   ],
   "source": [
    "digit = x.iloc[5]\n",
    "digit_pixels = np.array(digit).reshape(28, 28)\n",
    "plt.subplot(132)\n",
    "plt.imshow(digit_pixels)\n",
    "plt.axis('off')\n",
    "print(y[5])"
   ]
  },
  {
   "cell_type": "code",
   "execution_count": 9,
   "id": "b0ff855f",
   "metadata": {},
   "outputs": [],
   "source": [
    "# Separating the Training and Testing Set\n",
    "x_train, x_test = x[:60000], x[60000:]\n",
    "y_train, y_test = y[:60000], y[60000:]"
   ]
  },
  {
   "cell_type": "code",
   "execution_count": 10,
   "id": "993c47a3",
   "metadata": {},
   "outputs": [],
   "source": [
    "# # Shuffling the data\n",
    "# import numpy as np\n",
    "# shuffle_index = np.random.permutation(60000)\n",
    "# x_train, y_train = x_train[shuffle_index], y_train[shuffle_index]"
   ]
  },
  {
   "cell_type": "code",
   "execution_count": 11,
   "id": "52c485c7",
   "metadata": {},
   "outputs": [],
   "source": [
    "# Converting the target data from string to int\n",
    "import numpy as np\n",
    "y_train = y_train.astype(int)\n",
    "y_test = y_test.astype(int)\n",
    "\n",
    "# Creating a 2 detector\n",
    "y_train_2 = (y_train==2)\n",
    "y_test_2 = (y_test==2)"
   ]
  },
  {
   "cell_type": "code",
   "execution_count": null,
   "id": "5d9e6da6",
   "metadata": {},
   "outputs": [],
   "source": [
    "from sklearn.linear_model import LogisticRegression\n",
    "clf = LogisticRegression(tol = 0.1, max_iter=10000)\n",
    "# yaha tut rha hai code, kya kre MAX_ITER reached ho\n",
    "# rha hai baar baar\n",
    "clf.fit(x_train, y_train_2)"
   ]
  },
  {
   "cell_type": "code",
   "execution_count": null,
   "id": "8462d0f9",
   "metadata": {},
   "outputs": [],
   "source": [
    "#digit=x.iloc[5]\n",
    "# answer should be true\n",
    "# clf.predict([digit]) "
   ]
  },
  {
   "cell_type": "code",
   "execution_count": null,
   "id": "d33531c8",
   "metadata": {},
   "outputs": [],
   "source": [
    "# cross validation\n",
    "from sklearn.model_selection import cross_val_score\n",
    "cross_val_score(clf, x_train, y_train_2, cv=3, scoring='accuracy')"
   ]
  },
  {
   "cell_type": "code",
   "execution_count": null,
   "id": "ee4876ba",
   "metadata": {},
   "outputs": [],
   "source": [
    "score_logistic = sgd_clf.score(X_test, y_test)"
   ]
  },
  {
   "cell_type": "code",
   "execution_count": null,
   "id": "043f20d7",
   "metadata": {},
   "outputs": [],
   "source": [
    "# how to do data analysis for skewed datasets\n",
    "# mtlb ek to imp datapoints waise hi km hai, aur usko\n",
    "# model glt bhi bta de tb bhi accuracy high hi aayegi,\n",
    "# to aise mai kya krna chaiye?"
   ]
  },
  {
   "cell_type": "code",
   "execution_count": null,
   "id": "73526cf4",
   "metadata": {},
   "outputs": [],
   "source": []
  },
  {
   "cell_type": "code",
   "execution_count": null,
   "id": "4cfe30a4",
   "metadata": {},
   "outputs": [],
   "source": []
  },
  {
   "cell_type": "code",
   "execution_count": null,
   "id": "127abb84",
   "metadata": {},
   "outputs": [],
   "source": []
  }
 ],
 "metadata": {
  "kernelspec": {
   "display_name": "Python 3",
   "language": "python",
   "name": "python3"
  },
  "language_info": {
   "codemirror_mode": {
    "name": "ipython",
    "version": 3
   },
   "file_extension": ".py",
   "mimetype": "text/x-python",
   "name": "python",
   "nbconvert_exporter": "python",
   "pygments_lexer": "ipython3",
   "version": "3.9.0b5"
  }
 },
 "nbformat": 4,
 "nbformat_minor": 5
}
