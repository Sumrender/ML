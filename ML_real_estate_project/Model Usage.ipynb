{
 "cells": [
  {
   "cell_type": "code",
   "execution_count": 4,
   "id": "22da5c78",
   "metadata": {},
   "outputs": [],
   "source": [
    "import numpy as np\n",
    "from joblib import dump, load\n",
    "model = load('real-estate-price-predictor.joblib')"
   ]
  },
  {
   "cell_type": "code",
   "execution_count": 6,
   "id": "9a1a9405",
   "metadata": {},
   "outputs": [
    {
     "data": {
      "text/plain": [
       "array([22.595])"
      ]
     },
     "execution_count": 6,
     "metadata": {},
     "output_type": "execute_result"
    }
   ],
   "source": [
    "features = np.array([[-0.439, 3.12628155, -1.121, -0.272, -1.22,\n",
    "      -0.239, -1.312, 2.611, -1.001, -0.577, -0.974, 0.411,\n",
    "      -0.860]])\n",
    "\n",
    "model.predict(features)"
   ]
  },
  {
   "cell_type": "code",
   "execution_count": null,
   "id": "b4a7bcfa",
   "metadata": {},
   "outputs": [],
   "source": []
  }
 ],
 "metadata": {
  "kernelspec": {
   "display_name": "Python 3",
   "language": "python",
   "name": "python3"
  },
  "language_info": {
   "codemirror_mode": {
    "name": "ipython",
    "version": 3
   },
   "file_extension": ".py",
   "mimetype": "text/x-python",
   "name": "python",
   "nbconvert_exporter": "python",
   "pygments_lexer": "ipython3",
   "version": "3.9.0b5"
  }
 },
 "nbformat": 4,
 "nbformat_minor": 5
}
